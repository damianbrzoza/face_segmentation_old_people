{
 "metadata": {
  "language_info": {
   "codemirror_mode": {
    "name": "ipython",
    "version": 3
   },
   "file_extension": ".py",
   "mimetype": "text/x-python",
   "name": "python",
   "nbconvert_exporter": "python",
   "pygments_lexer": "ipython3",
   "version": "3.8.5"
  },
  "orig_nbformat": 2,
  "kernelspec": {
   "name": "python3",
   "display_name": "Python 3",
   "language": "python"
  }
 },
 "nbformat": 4,
 "nbformat_minor": 2,
 "cells": [
  {
   "source": [
    "### Zadanie\n",
    "\n",
    "Cel: Ekstrakcja twarzy osoby starszej (70+) z jednego zdjęcia i wklejenie twarzy gdzie indziej.\n",
    "\n",
    "TODO:\n",
    "- [x] Stworzyć repozytorium zawierające notebooka\n",
    "- [x] Przeszukać internet w poszukiwaniu odpowiedniego modelu\n",
    "- [x] Skompletowanie datasetu (15-30 zdjęć) - również przypadki skrajne, ale 1 osoba na zdjęciu max 15 stopni odchylenia od frontu\n",
    "- [x] Anotacja danych\n",
    "- [ ] Przekształcenie w maski\n",
    "- [ ] Analiza działania na zdjęciach zawierających osoby starsze\n",
    "- [ ] Zaproponowanie rozwiązania problemów powstałych na prezentowanym datasecie"
   ],
   "cell_type": "markdown",
   "metadata": {}
  },
  {
   "source": [
    "### Analiza problemu\n",
    "\n",
    "\n",
    "Modele:\n",
    "- [Caffe model, only face](https://github.com/YuvalNirkin/face_segmentation) - caffe model\n",
    "- [PyTorch, many elements](https://github.com/zllrunning/face-parsing.PyTorch) - no requirements specified (but latest version works! yay!)\n",
    "- [Keras, many elements, many ported models](https://github.com/shaoanlu/face_toolbox_keras) - with specified requirements not working\n",
    "- [PyTorch, many elements, part of GAN](https://github.com/switchablenorms/CelebAMask-HQ/tree/master/face_parsing) - pytorch 0.4.1 <3\n",
    "\n",
    "\n",
    "Datasety:\n",
    "- [CelebAMask-HQ](https://github.com/switchablenorms/CelebAMask-HQ)\n",
    "- [Helen](https://github.com/JPlin/Relabeled-HELEN-Dataset?utm_source=catalyzex.com)\n",
    "\n",
    "\n",
    "Wybrano [PyTorch, many elements](https://github.com/zllrunning/face-parsing.PyTorch) ze względu na uniwersalność (co powinno być wykrywane ostatecznie jest kwestią biznesową)"
   ],
   "cell_type": "markdown",
   "metadata": {}
  },
  {
   "cell_type": "code",
   "execution_count": 11,
   "metadata": {},
   "outputs": [
    {
     "output_type": "stream",
     "name": "stdout",
     "text": [
      "old_man_dark.jpg\n",
      "very_old_man_02.jpeg\n",
      "old_man.jpg\n",
      "very_old_man_02.jpg\n",
      "very_old_woman_no_color.jpg\n",
      "old_woman_dark.jpg\n",
      "old_man_in_mask.jpg\n",
      "old_woman_with_mask.jpg\n",
      "old_woman.jpg\n",
      "old_asian_man.jpg\n",
      "very_old_woman.jpg\n",
      "strange_face_expression.jpg\n",
      "old_black_man.jpg\n",
      "very_old_woman_02.jpg\n",
      "woman_glasses.jpg\n",
      "old_man_mask.jpg\n",
      "very_very_old_woman.jpg\n",
      "very_old_man.jpg\n",
      "indian_man.jpg\n",
      "man_not_frontal.jpeg\n",
      "old_man_02.jpg\n",
      "old_man_03.jpg\n"
     ]
    }
   ],
   "source": [
    "# Image pre-processing - resize all images to 512x512\n",
    "\n",
    "import cv2\n",
    "import os\n",
    "\n",
    "path_to_dataset = '../my_dataset/'\n",
    "output_dataset = '../output_dataset/'\n",
    "\n",
    "for image_path in os.listdir(path_to_dataset):\n",
    "    print(image_path)\n",
    "    img = cv2.imread(os.path.join(path_to_dataset, image_path))\n",
    "    img = cv2.resize(img, (512, 512))\n",
    "    cv2.imwrite(os.path.join(output_dataset, image_path), img)"
   ]
  },
  {
   "source": [
    "Do labelowania danych posłuży narzędzie Labelbox. \n",
    "\n",
    "Założenie: Interesuje nas wykrywanie twarzy w całości. W związku z tym z wyłączeniem:\n",
    "- włosów\n",
    "- szyji\n",
    "- uszów\n",
    "- maseczki\n",
    "- brody (za wyjątkiem tej, która zakrywa rysy twarzy)\n",
    "\n",
    "Za to z włączeniem:\n",
    "- Maski pokrywającej całą twarz\n",
    "- Okularami\n",
    "\n",
    "\n",
    "Dataset dołączono do gita, w celu możliwości zapoznania się zposzczególnymi krokami\n"
   ],
   "cell_type": "markdown",
   "metadata": {}
  }
 ]
}