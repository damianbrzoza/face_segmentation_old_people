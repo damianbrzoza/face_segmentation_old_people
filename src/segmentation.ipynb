{
 "metadata": {
  "language_info": {
   "codemirror_mode": {
    "name": "ipython",
    "version": 3
   },
   "file_extension": ".py",
   "mimetype": "text/x-python",
   "name": "python",
   "nbconvert_exporter": "python",
   "pygments_lexer": "ipython3",
   "version": "3.8.5"
  },
  "orig_nbformat": 2,
  "kernelspec": {
   "name": "python3",
   "display_name": "Python 3",
   "language": "python"
  }
 },
 "nbformat": 4,
 "nbformat_minor": 2,
 "cells": [
  {
   "source": [
    "### Zadanie\n",
    "\n",
    "Cel: Ekstrakcja twarzy osoby starszej (70+) z jednego zdjęcia i wklejenie twarzy gdzie indziej.\n",
    "\n",
    "TODO:\n",
    "- [x] Stworzyć repozytorium zawierające notebooka\n",
    "- [x] Przeszukać internet w poszukiwaniu odpowiedniego modelu\n",
    "- [ ] Skompletowanie datasetu (15-30 zdjęć) - również przypadki skrajne, ale 1 osoba na zdjęciu max 15 stopni odchylenia od frontu\n",
    "- [ ] Analiza działania na zdjęciach zawierających osoby starsze\n",
    "- [ ] Zaproponowanie rozwiązania problemów powstałych na prezentowanym datasecie"
   ],
   "cell_type": "markdown",
   "metadata": {}
  },
  {
   "source": [
    "### Analiza problemu\n",
    "\n",
    "\n",
    "Modele:\n",
    "- [Caffe model, only face](https://github.com/YuvalNirkin/face_segmentation) - caffe model\n",
    "- [PyTorch, many elements](https://github.com/zllrunning/face-parsing.PyTorch) - no requirements specified (but latest version works! yay!)\n",
    "- [Keras, many elements, many ported models](https://github.com/shaoanlu/face_toolbox_keras) - with specified requirements not working\n",
    "- [PyTorch, many elements, part of GAN](https://github.com/switchablenorms/CelebAMask-HQ/tree/master/face_parsing) - pytorch 0.4.1 <3\n",
    "\n",
    "\n",
    "Datasety:\n",
    "- [CelebAMask-HQ](https://github.com/switchablenorms/CelebAMask-HQ)\n",
    "- [Helen](https://github.com/JPlin/Relabeled-HELEN-Dataset?utm_source=catalyzex.com)\n"
   ],
   "cell_type": "markdown",
   "metadata": {}
  }
 ]
}